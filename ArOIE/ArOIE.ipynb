{
  "nbformat": 4,
  "nbformat_minor": 0,
  "metadata": {
    "colab": {
      "name": "ArOIE.ipynb",
      "provenance": [],
      "collapsed_sections": [],
      "toc_visible": true
    },
    "kernelspec": {
      "name": "python3",
      "display_name": "Python 3"
    }
  },
  "cells": [
    {
      "cell_type": "code",
      "metadata": {
        "id": "5z40plNFmRqn"
      },
      "source": [
        "!pip install xlutils &> /dev/null"
      ],
      "execution_count": 2,
      "outputs": []
    },
    {
      "cell_type": "code",
      "metadata": {
        "id": "U_wO3ZZpmjgA"
      },
      "source": [
        "!cd ArOIE; mkdir results ; \\\r\n",
        " python model.py --dataset_excel_file \"EXCEL_WEATHER.xlsx\" --excel_sheet_name \"Sheet 1\" \\\r\n",
        "  --results_file_name  \"results/weather.xls\" --results_sheet_name  \"sentence\""
      ],
      "execution_count": null,
      "outputs": []
    }
  ]
}